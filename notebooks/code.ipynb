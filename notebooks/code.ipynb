{
 "cells": [
  {
   "cell_type": "code",
   "execution_count": 16,
   "metadata": {},
   "outputs": [],
   "source": [
    "import numpy as np\n",
    "import pandas as pd\n",
    "import matplotlib.pyplot as plt\n",
    "import seaborn as sns\n",
    "\n"
   ]
  },
  {
   "cell_type": "code",
   "execution_count": 17,
   "metadata": {},
   "outputs": [
    {
     "name": "stderr",
     "output_type": "stream",
     "text": [
      "/tmp/ipykernel_13348/1042444126.py:1: DtypeWarning: Columns (3) have mixed types. Specify dtype option on import or set low_memory=False.\n",
      "  books_df = pd.read_csv('Books.csv')\n"
     ]
    }
   ],
   "source": [
    "\n",
    "books_df = pd.read_csv('Books.csv')\n",
    "ratings_df = pd.read_csv('Ratings.csv')\n",
    "\n"
   ]
  },
  {
   "cell_type": "code",
   "execution_count": 18,
   "metadata": {},
   "outputs": [
    {
     "data": {
      "text/html": [
       "<div>\n",
       "<style scoped>\n",
       "    .dataframe tbody tr th:only-of-type {\n",
       "        vertical-align: middle;\n",
       "    }\n",
       "\n",
       "    .dataframe tbody tr th {\n",
       "        vertical-align: top;\n",
       "    }\n",
       "\n",
       "    .dataframe thead th {\n",
       "        text-align: right;\n",
       "    }\n",
       "</style>\n",
       "<table border=\"1\" class=\"dataframe\">\n",
       "  <thead>\n",
       "    <tr style=\"text-align: right;\">\n",
       "      <th></th>\n",
       "      <th>User-ID</th>\n",
       "      <th>ISBN</th>\n",
       "      <th>Book-Rating</th>\n",
       "    </tr>\n",
       "  </thead>\n",
       "  <tbody>\n",
       "    <tr>\n",
       "      <th>0</th>\n",
       "      <td>276725</td>\n",
       "      <td>034545104X</td>\n",
       "      <td>0</td>\n",
       "    </tr>\n",
       "    <tr>\n",
       "      <th>1</th>\n",
       "      <td>276726</td>\n",
       "      <td>0155061224</td>\n",
       "      <td>5</td>\n",
       "    </tr>\n",
       "    <tr>\n",
       "      <th>2</th>\n",
       "      <td>276727</td>\n",
       "      <td>0446520802</td>\n",
       "      <td>0</td>\n",
       "    </tr>\n",
       "    <tr>\n",
       "      <th>3</th>\n",
       "      <td>276729</td>\n",
       "      <td>052165615X</td>\n",
       "      <td>3</td>\n",
       "    </tr>\n",
       "    <tr>\n",
       "      <th>4</th>\n",
       "      <td>276729</td>\n",
       "      <td>0521795028</td>\n",
       "      <td>6</td>\n",
       "    </tr>\n",
       "  </tbody>\n",
       "</table>\n",
       "</div>"
      ],
      "text/plain": [
       "   User-ID        ISBN  Book-Rating\n",
       "0   276725  034545104X            0\n",
       "1   276726  0155061224            5\n",
       "2   276727  0446520802            0\n",
       "3   276729  052165615X            3\n",
       "4   276729  0521795028            6"
      ]
     },
     "execution_count": 18,
     "metadata": {},
     "output_type": "execute_result"
    }
   ],
   "source": [
    "ratings_df.head()"
   ]
  },
  {
   "cell_type": "code",
   "execution_count": 19,
   "metadata": {},
   "outputs": [
    {
     "name": "stdout",
     "output_type": "stream",
     "text": [
      "<class 'pandas.core.frame.DataFrame'>\n",
      "RangeIndex: 1149780 entries, 0 to 1149779\n",
      "Data columns (total 3 columns):\n",
      " #   Column       Non-Null Count    Dtype \n",
      "---  ------       --------------    ----- \n",
      " 0   User-ID      1149780 non-null  int64 \n",
      " 1   ISBN         1149780 non-null  object\n",
      " 2   Book-Rating  1149780 non-null  int64 \n",
      "dtypes: int64(2), object(1)\n",
      "memory usage: 26.3+ MB\n"
     ]
    }
   ],
   "source": [
    "ratings_df.info()"
   ]
  },
  {
   "cell_type": "code",
   "execution_count": 20,
   "metadata": {},
   "outputs": [
    {
     "data": {
      "text/html": [
       "<div>\n",
       "<style scoped>\n",
       "    .dataframe tbody tr th:only-of-type {\n",
       "        vertical-align: middle;\n",
       "    }\n",
       "\n",
       "    .dataframe tbody tr th {\n",
       "        vertical-align: top;\n",
       "    }\n",
       "\n",
       "    .dataframe thead th {\n",
       "        text-align: right;\n",
       "    }\n",
       "</style>\n",
       "<table border=\"1\" class=\"dataframe\">\n",
       "  <thead>\n",
       "    <tr style=\"text-align: right;\">\n",
       "      <th></th>\n",
       "      <th>ISBN</th>\n",
       "      <th>Book-Title</th>\n",
       "      <th>Book-Author</th>\n",
       "      <th>Year-Of-Publication</th>\n",
       "      <th>Publisher</th>\n",
       "      <th>Image-URL-S</th>\n",
       "      <th>Image-URL-M</th>\n",
       "      <th>Image-URL-L</th>\n",
       "    </tr>\n",
       "  </thead>\n",
       "  <tbody>\n",
       "    <tr>\n",
       "      <th>0</th>\n",
       "      <td>0195153448</td>\n",
       "      <td>Classical Mythology</td>\n",
       "      <td>Mark P. O. Morford</td>\n",
       "      <td>2002</td>\n",
       "      <td>Oxford University Press</td>\n",
       "      <td>http://images.amazon.com/images/P/0195153448.0...</td>\n",
       "      <td>http://images.amazon.com/images/P/0195153448.0...</td>\n",
       "      <td>http://images.amazon.com/images/P/0195153448.0...</td>\n",
       "    </tr>\n",
       "    <tr>\n",
       "      <th>1</th>\n",
       "      <td>0002005018</td>\n",
       "      <td>Clara Callan</td>\n",
       "      <td>Richard Bruce Wright</td>\n",
       "      <td>2001</td>\n",
       "      <td>HarperFlamingo Canada</td>\n",
       "      <td>http://images.amazon.com/images/P/0002005018.0...</td>\n",
       "      <td>http://images.amazon.com/images/P/0002005018.0...</td>\n",
       "      <td>http://images.amazon.com/images/P/0002005018.0...</td>\n",
       "    </tr>\n",
       "    <tr>\n",
       "      <th>2</th>\n",
       "      <td>0060973129</td>\n",
       "      <td>Decision in Normandy</td>\n",
       "      <td>Carlo D'Este</td>\n",
       "      <td>1991</td>\n",
       "      <td>HarperPerennial</td>\n",
       "      <td>http://images.amazon.com/images/P/0060973129.0...</td>\n",
       "      <td>http://images.amazon.com/images/P/0060973129.0...</td>\n",
       "      <td>http://images.amazon.com/images/P/0060973129.0...</td>\n",
       "    </tr>\n",
       "    <tr>\n",
       "      <th>3</th>\n",
       "      <td>0374157065</td>\n",
       "      <td>Flu: The Story of the Great Influenza Pandemic...</td>\n",
       "      <td>Gina Bari Kolata</td>\n",
       "      <td>1999</td>\n",
       "      <td>Farrar Straus Giroux</td>\n",
       "      <td>http://images.amazon.com/images/P/0374157065.0...</td>\n",
       "      <td>http://images.amazon.com/images/P/0374157065.0...</td>\n",
       "      <td>http://images.amazon.com/images/P/0374157065.0...</td>\n",
       "    </tr>\n",
       "    <tr>\n",
       "      <th>4</th>\n",
       "      <td>0393045218</td>\n",
       "      <td>The Mummies of Urumchi</td>\n",
       "      <td>E. J. W. Barber</td>\n",
       "      <td>1999</td>\n",
       "      <td>W. W. Norton &amp;amp; Company</td>\n",
       "      <td>http://images.amazon.com/images/P/0393045218.0...</td>\n",
       "      <td>http://images.amazon.com/images/P/0393045218.0...</td>\n",
       "      <td>http://images.amazon.com/images/P/0393045218.0...</td>\n",
       "    </tr>\n",
       "  </tbody>\n",
       "</table>\n",
       "</div>"
      ],
      "text/plain": [
       "         ISBN                                         Book-Title  \\\n",
       "0  0195153448                                Classical Mythology   \n",
       "1  0002005018                                       Clara Callan   \n",
       "2  0060973129                               Decision in Normandy   \n",
       "3  0374157065  Flu: The Story of the Great Influenza Pandemic...   \n",
       "4  0393045218                             The Mummies of Urumchi   \n",
       "\n",
       "            Book-Author Year-Of-Publication                   Publisher  \\\n",
       "0    Mark P. O. Morford                2002     Oxford University Press   \n",
       "1  Richard Bruce Wright                2001       HarperFlamingo Canada   \n",
       "2          Carlo D'Este                1991             HarperPerennial   \n",
       "3      Gina Bari Kolata                1999        Farrar Straus Giroux   \n",
       "4       E. J. W. Barber                1999  W. W. Norton &amp; Company   \n",
       "\n",
       "                                         Image-URL-S  \\\n",
       "0  http://images.amazon.com/images/P/0195153448.0...   \n",
       "1  http://images.amazon.com/images/P/0002005018.0...   \n",
       "2  http://images.amazon.com/images/P/0060973129.0...   \n",
       "3  http://images.amazon.com/images/P/0374157065.0...   \n",
       "4  http://images.amazon.com/images/P/0393045218.0...   \n",
       "\n",
       "                                         Image-URL-M  \\\n",
       "0  http://images.amazon.com/images/P/0195153448.0...   \n",
       "1  http://images.amazon.com/images/P/0002005018.0...   \n",
       "2  http://images.amazon.com/images/P/0060973129.0...   \n",
       "3  http://images.amazon.com/images/P/0374157065.0...   \n",
       "4  http://images.amazon.com/images/P/0393045218.0...   \n",
       "\n",
       "                                         Image-URL-L  \n",
       "0  http://images.amazon.com/images/P/0195153448.0...  \n",
       "1  http://images.amazon.com/images/P/0002005018.0...  \n",
       "2  http://images.amazon.com/images/P/0060973129.0...  \n",
       "3  http://images.amazon.com/images/P/0374157065.0...  \n",
       "4  http://images.amazon.com/images/P/0393045218.0...  "
      ]
     },
     "execution_count": 20,
     "metadata": {},
     "output_type": "execute_result"
    }
   ],
   "source": [
    "\n",
    "books_df.head()"
   ]
  },
  {
   "cell_type": "code",
   "execution_count": 21,
   "metadata": {},
   "outputs": [
    {
     "name": "stdout",
     "output_type": "stream",
     "text": [
      "<class 'pandas.core.frame.DataFrame'>\n",
      "RangeIndex: 271360 entries, 0 to 271359\n",
      "Data columns (total 8 columns):\n",
      " #   Column               Non-Null Count   Dtype \n",
      "---  ------               --------------   ----- \n",
      " 0   ISBN                 271360 non-null  object\n",
      " 1   Book-Title           271360 non-null  object\n",
      " 2   Book-Author          271358 non-null  object\n",
      " 3   Year-Of-Publication  271360 non-null  object\n",
      " 4   Publisher            271358 non-null  object\n",
      " 5   Image-URL-S          271360 non-null  object\n",
      " 6   Image-URL-M          271360 non-null  object\n",
      " 7   Image-URL-L          271357 non-null  object\n",
      "dtypes: object(8)\n",
      "memory usage: 16.6+ MB\n"
     ]
    }
   ],
   "source": [
    "books_df.info()"
   ]
  },
  {
   "cell_type": "code",
   "execution_count": 23,
   "metadata": {},
   "outputs": [
    {
     "data": {
      "image/png": "[encoded data removed]",
      "text/plain": [
       "<Figure size 1000x500 with 1 Axes>"
      ]
     },
     "metadata": {},
     "output_type": "display_data"
    }
   ],
   "source": [
    "plt.figure(figsize=(10,5))\n",
    "ax = sns.countplot(data=ratings_df, x='Book-Rating')\n",
    "labels = (ratings_df['Book-Rating'].value_counts().sort_index())\n",
    "plt.title('Distribution of Ratings')\n",
    "plt.xlabel('Ratings')\n",
    "\n",
    "for i,v in enumerate(labels):\n",
    "    ax.text(i, v+100, str(v), horizontalalignment='center', size=14, color='black')\n",
    "plt.show()"
   ]
  },
  {
   "cell_type": "code",
   "execution_count": 24,
   "metadata": {},
   "outputs": [],
   "source": [
    "title_mask = books_df['Book-Title'].isna()\n",
    "books_df = books_df.loc[title_mask == False]"
   ]
  },
  {
   "cell_type": "code",
   "execution_count": 27,
   "metadata": {},
   "outputs": [
    {
     "data": {
      "text/html": [
       "<div>\n",
       "<style scoped>\n",
       "    .dataframe tbody tr th:only-of-type {\n",
       "        vertical-align: middle;\n",
       "    }\n",
       "\n",
       "    .dataframe tbody tr th {\n",
       "        vertical-align: top;\n",
       "    }\n",
       "\n",
       "    .dataframe thead th {\n",
       "        text-align: right;\n",
       "    }\n",
       "</style>\n",
       "<table border=\"1\" class=\"dataframe\">\n",
       "  <thead>\n",
       "    <tr style=\"text-align: right;\">\n",
       "      <th></th>\n",
       "      <th>User-ID</th>\n",
       "      <th>ISBN</th>\n",
       "      <th>Book-Rating</th>\n",
       "      <th>Book-Title</th>\n",
       "    </tr>\n",
       "  </thead>\n",
       "  <tbody>\n",
       "    <tr>\n",
       "      <th>0</th>\n",
       "      <td>276725</td>\n",
       "      <td>034545104X</td>\n",
       "      <td>0</td>\n",
       "      <td>Flesh Tones: A Novel</td>\n",
       "    </tr>\n",
       "    <tr>\n",
       "      <th>1</th>\n",
       "      <td>276726</td>\n",
       "      <td>0155061224</td>\n",
       "      <td>5</td>\n",
       "      <td>Rites of Passage</td>\n",
       "    </tr>\n",
       "    <tr>\n",
       "      <th>2</th>\n",
       "      <td>276727</td>\n",
       "      <td>0446520802</td>\n",
       "      <td>0</td>\n",
       "      <td>The Notebook</td>\n",
       "    </tr>\n",
       "    <tr>\n",
       "      <th>3</th>\n",
       "      <td>276729</td>\n",
       "      <td>052165615X</td>\n",
       "      <td>3</td>\n",
       "      <td>Help!: Level 1</td>\n",
       "    </tr>\n",
       "    <tr>\n",
       "      <th>4</th>\n",
       "      <td>276729</td>\n",
       "      <td>0521795028</td>\n",
       "      <td>6</td>\n",
       "      <td>The Amsterdam Connection : Level 4 (Cambridge ...</td>\n",
       "    </tr>\n",
       "  </tbody>\n",
       "</table>\n",
       "</div>"
      ],
      "text/plain": [
       "   User-ID        ISBN  Book-Rating  \\\n",
       "0   276725  034545104X            0   \n",
       "1   276726  0155061224            5   \n",
       "2   276727  0446520802            0   \n",
       "3   276729  052165615X            3   \n",
       "4   276729  0521795028            6   \n",
       "\n",
       "                                          Book-Title  \n",
       "0                               Flesh Tones: A Novel  \n",
       "1                                   Rites of Passage  \n",
       "2                                       The Notebook  \n",
       "3                                     Help!: Level 1  \n",
       "4  The Amsterdam Connection : Level 4 (Cambridge ...  "
      ]
     },
     "execution_count": 27,
     "metadata": {},
     "output_type": "execute_result"
    }
   ],
   "source": [
    "# Merge on the ISBN column\n",
    "df = pd.merge(ratings_df, books_df[['ISBN', 'Book-Title']], on='ISBN', how='inner')\n",
    "\n",
    "# Display the first few rows\n",
    "df.head()\n"
   ]
  },
  {
   "cell_type": "code",
   "execution_count": 28,
   "metadata": {},
   "outputs": [],
   "source": [
    "\n",
    "\n",
    "df = df.drop_duplicates(['User-ID','Book-Title'])\n",
    "\n"
   ]
  },
  {
   "cell_type": "code",
   "execution_count": 33,
   "metadata": {},
   "outputs": [],
   "source": [
    "import pandas as pd\n",
    "import numpy as np\n",
    "from scipy.sparse import coo_matrix\n",
    "\n",
    "# Step 1: Preprocess ratings to binary (1 if rated, 0 if not)\n",
    "df['Book-Rating'] = df['Book-Rating'].apply(lambda x: 1 if x > 0 else 0)\n",
    "\n",
    "# Step 2: Convert categorical columns to codes\n",
    "user_ids = pd.Categorical(df['User-ID']).codes\n",
    "book_titles = pd.Categorical(df['Book-Title']).codes\n",
    "\n",
    "# Step 3: Create a sparse matrix with rows as users and columns as books\n",
    "# coo_matrix expects three arguments: data, (row, col), shape\n",
    "sparse_matrix = coo_matrix(\n",
    "    (df['Book-Rating'], (user_ids, book_titles)),\n",
    "    shape=(len(np.unique(user_ids)), len(np.unique(book_titles)))\n",
    ")\n",
    "\n",
    "# Step 4: Convert to csr format if needed for further processing\n",
    "sparse_matrix = sparse_matrix.tocsr()\n",
    "\n",
    "# You now have a sparse matrix representing users and books, with 1s where ratings exist\n"
   ]
  },
  {
   "cell_type": "code",
   "execution_count": 34,
   "metadata": {},
   "outputs": [],
   "source": [
    "from scipy.sparse import csr_matrix\n",
    "\n",
    "# Assuming 'sparse_matrix' is the csr_matrix with 1 for rated books and 0 otherwise\n",
    "# Convert sparse matrix to a list of transactions\n",
    "transactions = []\n",
    "\n",
    "# Iterate through each row in the sparse matrix\n",
    "for user_row in sparse_matrix:\n",
    "    # Find the indices (i.e., books) that are rated (value = 1)\n",
    "    books = user_row.indices  # This returns the indices of non-zero entries (rated books)\n",
    "    transactions.append(books.tolist())  # Append as a list of books (by index)\n",
    "\n",
    "# You now have a list of transactions, where each transaction is a list of book indices the user has rated\n"
   ]
  },
  {
   "cell_type": "code",
   "execution_count": 35,
   "metadata": {},
   "outputs": [],
   "source": [
    "# Assuming `book_titles` is the list of unique book titles\n",
    "# Map indices back to book titles\n",
    "book_titles = pd.Categorical(df['Book-Title']).categories  # Get the actual book titles from the categorical codes\n",
    "transactions_with_titles = [[book_titles[i] for i in transaction] for transaction in transactions]\n",
    "\n"
   ]
  },
  {
   "cell_type": "code",
   "execution_count": 43,
   "metadata": {},
   "outputs": [
    {
     "name": "stdout",
     "output_type": "stream",
     "text": [
      "All Association Rules:\n",
      "Rule: ('The Amber Spyglass (His Dark Materials, Book 3)',) -> ('The Subtle Knife (His Dark Materials, Book 2)',) (Confidence: 0.77)\n",
      "Rule: ('C Is for Corpse (Kinsey Millhone Mysteries (Paperback))',) -> ('B Is for Burglar (Kinsey Millhone Mysteries (Paperback))',) (Confidence: 0.60)\n",
      "Rule: ('Tribulation Force: The Continuing Drama of Those Left Behind (Left Behind No. 2)',) -> (\"Left Behind: A Novel of the Earth's Last Days (Left Behind No. 1)\",) (Confidence: 0.59)\n",
      "Rule: ('Shopaholic Takes Manhattan (Summer Display Opportunity)',) -> ('Confessions of a Shopaholic (Summer Display Opportunity)',) (Confidence: 0.60)\n",
      "Rule: ('The Fellowship of the Ring (The Lord of the Rings, Part 1)', 'The Return of the King (The Lord of the Rings, Part 3)') -> ('The Two Towers (The Lord of the Rings, Part 2)',) (Confidence: 0.92)\n",
      "Rule: ('The Fellowship of the Ring (The Lord of the Rings, Part 1)', 'The Two Towers (The Lord of the Rings, Part 2)') -> ('The Return of the King (The Lord of the Rings, Part 3)',) (Confidence: 0.70)\n",
      "Rule: ('The Return of the King (The Lord of the Rings, Part 3)', 'The Two Towers (The Lord of the Rings, Part 2)') -> ('The Fellowship of the Ring (The Lord of the Rings, Part 1)',) (Confidence: 0.80)\n",
      "Rule: ('The Two Towers (The Lord of the Rings, Part 2)',) -> ('The Fellowship of the Ring (The Lord of the Rings, Part 1)',) (Confidence: 0.61)\n",
      "Rule: ('The Subtle Knife (His Dark Materials, Book 2)',) -> ('The Golden Compass (His Dark Materials, Book 1)',) (Confidence: 0.55)\n",
      "Rule: ('Four To Score (A Stephanie Plum Novel)', 'High Five (A Stephanie Plum Novel)') -> ('Three To Get Deadly : A Stephanie Plum Novel (A Stephanie Plum Novel)',) (Confidence: 0.78)\n",
      "Rule: ('Four To Score (A Stephanie Plum Novel)', 'Three To Get Deadly : A Stephanie Plum Novel (A Stephanie Plum Novel)') -> ('High Five (A Stephanie Plum Novel)',) (Confidence: 0.82)\n",
      "Rule: ('High Five (A Stephanie Plum Novel)', 'Three To Get Deadly : A Stephanie Plum Novel (A Stephanie Plum Novel)') -> ('Four To Score (A Stephanie Plum Novel)',) (Confidence: 0.87)\n",
      "Rule: ('Face the Fire (Three Sisters Island Trilogy)',) -> ('Dance upon the Air (Three Sisters Island Trilogy)',) (Confidence: 0.50)\n",
      "Rule: ('Interview with the Vampire', 'The Queen of the Damned (Vampire Chronicles (Paperback))') -> ('The Vampire Lestat (Vampire Chronicles, Book II)',) (Confidence: 0.77)\n",
      "Rule: ('Interview with the Vampire', 'The Vampire Lestat (Vampire Chronicles, Book II)') -> ('The Queen of the Damned (Vampire Chronicles (Paperback))',) (Confidence: 0.63)\n",
      "Rule: ('The Queen of the Damned (Vampire Chronicles (Paperback))', 'The Vampire Lestat (Vampire Chronicles, Book II)') -> ('Interview with the Vampire',) (Confidence: 0.77)\n",
      "Rule: ('Harry Potter and the Chamber of Secrets (Book 2)', \"Harry Potter and the Sorcerer's Stone (Book 1)\") -> ('Harry Potter and the Prisoner of Azkaban (Book 3)',) (Confidence: 0.82)\n",
      "Rule: ('Harry Potter and the Goblet of Fire (Book 4)', \"Harry Potter and the Sorcerer's Stone (Book 1)\") -> ('Harry Potter and the Chamber of Secrets (Book 2)',) (Confidence: 0.94)\n",
      "Rule: ('Harry Potter and the Prisoner of Azkaban (Book 3)', \"Harry Potter and the Sorcerer's Stone (Book 1)\") -> ('Harry Potter and the Chamber of Secrets (Book 2)',) (Confidence: 0.93)\n",
      "Rule: ('The Vampire Lestat (Vampire Chronicles, Book II)',) -> ('Interview with the Vampire',) (Confidence: 0.53)\n",
      "Rule: ('Harry Potter and the Goblet of Fire (Book 4)', 'Harry Potter and the Order of the Phoenix (Book 5)') -> ('Harry Potter and the Chamber of Secrets (Book 2)',) (Confidence: 0.82)\n",
      "Rule: ('Harry Potter and the Goblet of Fire (Book 4)', 'Harry Potter and the Prisoner of Azkaban (Book 3)') -> ('Harry Potter and the Chamber of Secrets (Book 2)',) (Confidence: 0.88)\n",
      "Rule: ('Harry Potter and the Chamber of Secrets (Book 2)', 'Harry Potter and the Order of the Phoenix (Book 5)') -> ('Harry Potter and the Goblet of Fire (Book 4)',) (Confidence: 0.82)\n",
      "Rule: ('Harry Potter and the Chamber of Secrets (Book 2)', 'Harry Potter and the Goblet of Fire (Book 4)', 'Harry Potter and the Order of the Phoenix (Book 5)') -> ('Harry Potter and the Prisoner of Azkaban (Book 3)',) (Confidence: 0.93)\n",
      "Rule: ('Harry Potter and the Chamber of Secrets (Book 2)', 'Harry Potter and the Goblet of Fire (Book 4)', 'Harry Potter and the Prisoner of Azkaban (Book 3)') -> ('Harry Potter and the Order of the Phoenix (Book 5)',) (Confidence: 0.54)\n",
      "Rule: ('Harry Potter and the Chamber of Secrets (Book 2)', 'Harry Potter and the Order of the Phoenix (Book 5)', 'Harry Potter and the Prisoner of Azkaban (Book 3)') -> ('Harry Potter and the Goblet of Fire (Book 4)',) (Confidence: 0.92)\n",
      "Rule: ('Harry Potter and the Goblet of Fire (Book 4)', 'Harry Potter and the Order of the Phoenix (Book 5)', 'Harry Potter and the Prisoner of Azkaban (Book 3)') -> ('Harry Potter and the Chamber of Secrets (Book 2)',) (Confidence: 0.93)\n",
      "Rule: ('Harry Potter and the Chamber of Secrets (Book 2)', 'Harry Potter and the Goblet of Fire (Book 4)') -> ('Harry Potter and the Prisoner of Azkaban (Book 3)',) (Confidence: 0.88)\n",
      "Rule: ('Harry Potter and the Prisoner of Azkaban (Book 3)', \"Harry Potter and the Sorcerer's Stone (Harry Potter (Paperback))\") -> ('Harry Potter and the Chamber of Secrets (Book 2)',) (Confidence: 0.87)\n",
      "Rule: ('Harry Potter and the Chamber of Secrets (Book 2)', 'Harry Potter and the Goblet of Fire (Book 4)', \"Harry Potter and the Sorcerer's Stone (Harry Potter (Paperback))\") -> ('Harry Potter and the Prisoner of Azkaban (Book 3)',) (Confidence: 0.87)\n",
      "Rule: ('Harry Potter and the Chamber of Secrets (Book 2)', 'Harry Potter and the Prisoner of Azkaban (Book 3)', \"Harry Potter and the Sorcerer's Stone (Harry Potter (Paperback))\") -> ('Harry Potter and the Goblet of Fire (Book 4)',) (Confidence: 0.77)\n",
      "Rule: ('Harry Potter and the Goblet of Fire (Book 4)', 'Harry Potter and the Prisoner of Azkaban (Book 3)', \"Harry Potter and the Sorcerer's Stone (Harry Potter (Paperback))\") -> ('Harry Potter and the Chamber of Secrets (Book 2)',) (Confidence: 0.94)\n",
      "Rule: ('Harry Potter and the Chamber of Secrets (Book 2)', \"Harry Potter and the Sorcerer's Stone (Harry Potter (Paperback))\") -> ('Harry Potter and the Prisoner of Azkaban (Book 3)',) (Confidence: 0.60)\n",
      "Rule: ('Harry Potter and the Chamber of Secrets (Book 2)', 'Harry Potter and the Prisoner of Azkaban (Book 3)') -> ('Harry Potter and the Goblet of Fire (Book 4)',) (Confidence: 0.77)\n",
      "Rule: ('The Client', 'The Firm') -> ('The Pelican Brief',) (Confidence: 0.69)\n",
      "Rule: ('The Client', 'The Pelican Brief') -> ('A Time to Kill',) (Confidence: 0.63)\n",
      "Rule: ('A Time to Kill', 'The Client') -> ('The Pelican Brief',) (Confidence: 0.69)\n",
      "Rule: ('A Time to Kill', 'The Pelican Brief') -> ('The Firm',) (Confidence: 0.61)\n",
      "Rule: ('The Chamber', 'The Firm') -> ('The Pelican Brief',) (Confidence: 0.69)\n",
      "Rule: ('The Chamber', 'The Pelican Brief') -> ('A Time to Kill',) (Confidence: 0.69)\n",
      "Rule: ('A Time to Kill', 'The Chamber') -> ('The Pelican Brief',) (Confidence: 0.68)\n",
      "Rule: ('A Time to Kill', 'The Firm') -> ('The Pelican Brief',) (Confidence: 0.70)\n",
      "Rule: ('The Firm', 'The Pelican Brief') -> ('A Time to Kill',) (Confidence: 0.56)\n"
     ]
    }
   ],
   "source": [
    "import pyfpgrowth\n",
    "\n",
    "# Assuming transactions_with_titles is the list of transactions\n",
    "\n",
    "# Step 1: Run frequent pattern growth\n",
    "patterns = pyfpgrowth.find_frequent_patterns(transactions_with_titles, 100)\n",
    "\n",
    "# Step 2: Generate association rules\n",
    "rules = pyfpgrowth.generate_association_rules(patterns, 0.5)\n",
    "\n",
    "# Function to display rules in a more readable format\n",
    "def display_rules(rules):\n",
    "    for rule in rules:\n",
    "        antecedent = rule\n",
    "        consequent = rules[rule][0]\n",
    "        confidence = rules[rule][1]\n",
    "        print(f\"Rule: {antecedent} -> {consequent} (Confidence: {confidence:.2f})\")\n",
    "\n",
    "# Function to filter and display rules related to a specific book\n",
    "def display_rules_for_book(rules, book_title):\n",
    "    print(f\"\\nAssociation rules related to '{book_title}':\")\n",
    "    found = False\n",
    "    for rule in rules:\n",
    "        antecedent = rule\n",
    "        consequent = rules[rule][0]\n",
    "        confidence = rules[rule][1]\n",
    "        # Check if the book title is in the antecedent or consequent\n",
    "        if book_title in antecedent or book_title in consequent:\n",
    "            found = True\n",
    "            print(f\"Rule: {antecedent} -> {consequent} (Confidence: {confidence:.2f})\")\n",
    "    if not found:\n",
    "        print(f\"No rules found for '{book_title}'.\")\n",
    "\n",
    "# Display all rules\n",
    "print(\"All Association Rules:\")\n",
    "display_rules(rules)\n",
    "\n"
   ]
  },
  {
   "cell_type": "code",
   "execution_count": 44,
   "metadata": {},
   "outputs": [
    {
     "name": "stdout",
     "output_type": "stream",
     "text": [
      "\n",
      "Association rules related to 'Interview with the Vampire':\n",
      "Rule: ('Interview with the Vampire', 'The Queen of the Damned (Vampire Chronicles (Paperback))') -> ('The Vampire Lestat (Vampire Chronicles, Book II)',) (Confidence: 0.77)\n",
      "Rule: ('Interview with the Vampire', 'The Vampire Lestat (Vampire Chronicles, Book II)') -> ('The Queen of the Damned (Vampire Chronicles (Paperback))',) (Confidence: 0.63)\n",
      "Rule: ('The Queen of the Damned (Vampire Chronicles (Paperback))', 'The Vampire Lestat (Vampire Chronicles, Book II)') -> ('Interview with the Vampire',) (Confidence: 0.77)\n",
      "Rule: ('The Vampire Lestat (Vampire Chronicles, Book II)',) -> ('Interview with the Vampire',) (Confidence: 0.53)\n"
     ]
    }
   ],
   "source": [
    "\n",
    "\n",
    "# Search for rules related to a specific book\n",
    "specific_book = \"Interview with the Vampire\"  # Replace this with the book you're searching for\n",
    "display_rules_for_book(rules, specific_book)\n",
    "\n"
   ]
  },
  {
   "cell_type": "code",
   "execution_count": null,
   "metadata": {},
   "outputs": [],
   "source": [
    "\n",
    "\n"
   ]
  },
  {
   "cell_type": "code",
   "execution_count": null,
   "metadata": {},
   "outputs": [],
   "source": []
  },
  {
   "cell_type": "code",
   "execution_count": null,
   "metadata": {},
   "outputs": [],
   "source": []
  },
  {
   "cell_type": "code",
   "execution_count": null,
   "metadata": {},
   "outputs": [],
   "source": []
  }
 ],
 "metadata": {
  "kernelspec": {
   "display_name": "base",
   "language": "python",
   "name": "python3"
  },
  "language_info": {
   "codemirror_mode": {
    "name": "ipython",
    "version": 3
   },
   "file_extension": ".py",
   "mimetype": "text/x-python",
   "name": "python",
   "nbconvert_exporter": "python",
   "pygments_lexer": "ipython3",
   "version": "3.12.4"
  }
 },
 "nbformat": 4,
 "nbformat_minor": 2
}
